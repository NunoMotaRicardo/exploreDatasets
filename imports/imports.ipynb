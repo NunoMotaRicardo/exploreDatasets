{
 "cells": [
  {
   "cell_type": "code",
   "execution_count": 7,
   "id": "99b9ab73",
   "metadata": {},
   "outputs": [
    {
     "name": "stdout",
     "output_type": "stream",
     "text": [
      "apiClient imported successfully\n"
     ]
    }
   ],
   "source": [
    "#import kagglehub\n",
    "import pandas as pd\n",
    "import numpy as np\n",
    "\n",
    "import sys\n",
    "import os\n",
    "\n",
    "# Get the current working directory and navigate to parent directories\n",
    "current_dir = os.getcwd()\n",
    "parent_dir = os.path.dirname(current_dir)\n",
    "sys.path.append(parent_dir)\n",
    "\n",
    "# Alternative: add the specific path where ApiClient is located\n",
    "# Uncomment and modify the path below if ApiClient is in a specific location\n",
    "# sys.path.append(r'C:\\githubRepos\\exploreDatasets')\n",
    "\n",
    "try:\n",
    "\tfrom ApiClient import ApiClient\n",
    "\tapi_client = ApiClient()\n",
    "\tprint(\"apiClient imported successfully\")\n",
    "except ImportError as e:\n",
    "\tprint(f\"Error importing apiClient: {e}\")\n",
    "\tprint(f\"Current working directory: {os.getcwd()}\")\n",
    "\tprint(f\"Python path: {sys.path}\")\n",
    "\tapi_client = None"
   ]
  },
  {
   "cell_type": "markdown",
   "id": "d4ccd1b0",
   "metadata": {},
   "source": [
    "# Trader fear greed index\n",
    "\n",
    "Kaggle dataset from ghostiee11\n",
    "\n",
    "First download in 2025-06-14\n",
    "\n",
    "I've downloaded and saved in the folder ghostiee11"
   ]
  },
  {
   "cell_type": "code",
   "execution_count": 1,
   "id": "e1cab466",
   "metadata": {},
   "outputs": [
    {
     "ename": "NameError",
     "evalue": "name 'kagglehub' is not defined",
     "output_type": "error",
     "traceback": [
      "\u001b[31m---------------------------------------------------------------------------\u001b[39m",
      "\u001b[31mNameError\u001b[39m                                 Traceback (most recent call last)",
      "\u001b[36mCell\u001b[39m\u001b[36m \u001b[39m\u001b[32mIn[1]\u001b[39m\u001b[32m, line 2\u001b[39m\n\u001b[32m      1\u001b[39m \u001b[38;5;66;03m# Download latest version\u001b[39;00m\n\u001b[32m----> \u001b[39m\u001b[32m2\u001b[39m path = \u001b[43mkagglehub\u001b[49m.dataset_download(\u001b[33m\"\u001b[39m\u001b[33mghostiee11/primetrade-data\u001b[39m\u001b[33m\"\u001b[39m)\n\u001b[32m      4\u001b[39m \u001b[38;5;28mprint\u001b[39m(\u001b[33m\"\u001b[39m\u001b[33mPath to dataset files:\u001b[39m\u001b[33m\"\u001b[39m, path)\n",
      "\u001b[31mNameError\u001b[39m: name 'kagglehub' is not defined"
     ]
    }
   ],
   "source": [
    "#import kagglehub\n",
    "# Download latest version\n",
    "path = kagglehub.dataset_download(\"ghostiee11/primetrade-data\")\n",
    "\n",
    "print(\"Path to dataset files:\", path)"
   ]
  },
  {
   "cell_type": "markdown",
   "id": "83aa0b46",
   "metadata": {},
   "source": [
    "I've mannually saved in my folder:\n",
    "\n",
    "CNNtimeline.csv\n",
    "\n",
    "OpenStockAlerts.csv"
   ]
  },
  {
   "cell_type": "code",
   "execution_count": 6,
   "id": "038802a8",
   "metadata": {},
   "outputs": [
    {
     "ename": "FileNotFoundError",
     "evalue": "[Errno 2] No such file or directory: './greedFearIndex/whit3rabbit-fear-greed-data/fear-greed-2011-2023.csv'",
     "output_type": "error",
     "traceback": [
      "\u001b[31m---------------------------------------------------------------------------\u001b[39m",
      "\u001b[31mFileNotFoundError\u001b[39m                         Traceback (most recent call last)",
      "\u001b[36mCell\u001b[39m\u001b[36m \u001b[39m\u001b[32mIn[6]\u001b[39m\u001b[32m, line 6\u001b[39m\n\u001b[32m      1\u001b[39m \u001b[38;5;66;03m#fearAndGreed = pd.read_csv(\"./ghostiee11/fear_greed_index.csv\")\u001b[39;00m\n\u001b[32m      2\u001b[39m \u001b[38;5;66;03m#fearAndGreed = fearAndGreed.rename(columns={\"date\": \"Date\", \"value\": \"FearGreed\"})\u001b[39;00m\n\u001b[32m      3\u001b[39m \u001b[38;5;66;03m#fearAndGreed[\"Date\"] = pd.to_datetime(fearAndGreed[\"Date\"], format=\"%Y-%m-%d\")\u001b[39;00m\n\u001b[32m      4\u001b[39m \u001b[38;5;66;03m#fearAndGreed=fearAndGreed[[\"Date\",\"FearGreed\"]]\u001b[39;00m\n\u001b[32m----> \u001b[39m\u001b[32m6\u001b[39m fearAndGreed = \u001b[43mpd\u001b[49m\u001b[43m.\u001b[49m\u001b[43mread_csv\u001b[49m\u001b[43m(\u001b[49m\u001b[33;43m\"\u001b[39;49m\u001b[33;43m./greedFearIndex/whit3rabbit-fear-greed-data/fear-greed-2011-2023.csv\u001b[39;49m\u001b[33;43m\"\u001b[39;49m\u001b[43m)\u001b[49m\n\u001b[32m      7\u001b[39m fearAndGreed = fearAndGreed.rename(columns={\u001b[33m\"\u001b[39m\u001b[33mFear Greed\u001b[39m\u001b[33m\"\u001b[39m: \u001b[33m\"\u001b[39m\u001b[33mFearGreed\u001b[39m\u001b[33m\"\u001b[39m})\n\u001b[32m      8\u001b[39m fearAndGreed[\u001b[33m\"\u001b[39m\u001b[33mDate\u001b[39m\u001b[33m\"\u001b[39m] = pd.to_datetime(fearAndGreed[\u001b[33m\"\u001b[39m\u001b[33mDate\u001b[39m\u001b[33m\"\u001b[39m], \u001b[38;5;28mformat\u001b[39m=\u001b[33m\"\u001b[39m\u001b[33mmixed\u001b[39m\u001b[33m\"\u001b[39m)\n",
      "\u001b[36mFile \u001b[39m\u001b[32mc:\\githubRepos\\exploreDatasets\\.venv\\Lib\\site-packages\\pandas\\io\\parsers\\readers.py:1026\u001b[39m, in \u001b[36mread_csv\u001b[39m\u001b[34m(filepath_or_buffer, sep, delimiter, header, names, index_col, usecols, dtype, engine, converters, true_values, false_values, skipinitialspace, skiprows, skipfooter, nrows, na_values, keep_default_na, na_filter, verbose, skip_blank_lines, parse_dates, infer_datetime_format, keep_date_col, date_parser, date_format, dayfirst, cache_dates, iterator, chunksize, compression, thousands, decimal, lineterminator, quotechar, quoting, doublequote, escapechar, comment, encoding, encoding_errors, dialect, on_bad_lines, delim_whitespace, low_memory, memory_map, float_precision, storage_options, dtype_backend)\u001b[39m\n\u001b[32m   1013\u001b[39m kwds_defaults = _refine_defaults_read(\n\u001b[32m   1014\u001b[39m     dialect,\n\u001b[32m   1015\u001b[39m     delimiter,\n\u001b[32m   (...)\u001b[39m\u001b[32m   1022\u001b[39m     dtype_backend=dtype_backend,\n\u001b[32m   1023\u001b[39m )\n\u001b[32m   1024\u001b[39m kwds.update(kwds_defaults)\n\u001b[32m-> \u001b[39m\u001b[32m1026\u001b[39m \u001b[38;5;28;01mreturn\u001b[39;00m \u001b[43m_read\u001b[49m\u001b[43m(\u001b[49m\u001b[43mfilepath_or_buffer\u001b[49m\u001b[43m,\u001b[49m\u001b[43m \u001b[49m\u001b[43mkwds\u001b[49m\u001b[43m)\u001b[49m\n",
      "\u001b[36mFile \u001b[39m\u001b[32mc:\\githubRepos\\exploreDatasets\\.venv\\Lib\\site-packages\\pandas\\io\\parsers\\readers.py:620\u001b[39m, in \u001b[36m_read\u001b[39m\u001b[34m(filepath_or_buffer, kwds)\u001b[39m\n\u001b[32m    617\u001b[39m _validate_names(kwds.get(\u001b[33m\"\u001b[39m\u001b[33mnames\u001b[39m\u001b[33m\"\u001b[39m, \u001b[38;5;28;01mNone\u001b[39;00m))\n\u001b[32m    619\u001b[39m \u001b[38;5;66;03m# Create the parser.\u001b[39;00m\n\u001b[32m--> \u001b[39m\u001b[32m620\u001b[39m parser = \u001b[43mTextFileReader\u001b[49m\u001b[43m(\u001b[49m\u001b[43mfilepath_or_buffer\u001b[49m\u001b[43m,\u001b[49m\u001b[43m \u001b[49m\u001b[43m*\u001b[49m\u001b[43m*\u001b[49m\u001b[43mkwds\u001b[49m\u001b[43m)\u001b[49m\n\u001b[32m    622\u001b[39m \u001b[38;5;28;01mif\u001b[39;00m chunksize \u001b[38;5;129;01mor\u001b[39;00m iterator:\n\u001b[32m    623\u001b[39m     \u001b[38;5;28;01mreturn\u001b[39;00m parser\n",
      "\u001b[36mFile \u001b[39m\u001b[32mc:\\githubRepos\\exploreDatasets\\.venv\\Lib\\site-packages\\pandas\\io\\parsers\\readers.py:1620\u001b[39m, in \u001b[36mTextFileReader.__init__\u001b[39m\u001b[34m(self, f, engine, **kwds)\u001b[39m\n\u001b[32m   1617\u001b[39m     \u001b[38;5;28mself\u001b[39m.options[\u001b[33m\"\u001b[39m\u001b[33mhas_index_names\u001b[39m\u001b[33m\"\u001b[39m] = kwds[\u001b[33m\"\u001b[39m\u001b[33mhas_index_names\u001b[39m\u001b[33m\"\u001b[39m]\n\u001b[32m   1619\u001b[39m \u001b[38;5;28mself\u001b[39m.handles: IOHandles | \u001b[38;5;28;01mNone\u001b[39;00m = \u001b[38;5;28;01mNone\u001b[39;00m\n\u001b[32m-> \u001b[39m\u001b[32m1620\u001b[39m \u001b[38;5;28mself\u001b[39m._engine = \u001b[38;5;28;43mself\u001b[39;49m\u001b[43m.\u001b[49m\u001b[43m_make_engine\u001b[49m\u001b[43m(\u001b[49m\u001b[43mf\u001b[49m\u001b[43m,\u001b[49m\u001b[43m \u001b[49m\u001b[38;5;28;43mself\u001b[39;49m\u001b[43m.\u001b[49m\u001b[43mengine\u001b[49m\u001b[43m)\u001b[49m\n",
      "\u001b[36mFile \u001b[39m\u001b[32mc:\\githubRepos\\exploreDatasets\\.venv\\Lib\\site-packages\\pandas\\io\\parsers\\readers.py:1880\u001b[39m, in \u001b[36mTextFileReader._make_engine\u001b[39m\u001b[34m(self, f, engine)\u001b[39m\n\u001b[32m   1878\u001b[39m     \u001b[38;5;28;01mif\u001b[39;00m \u001b[33m\"\u001b[39m\u001b[33mb\u001b[39m\u001b[33m\"\u001b[39m \u001b[38;5;129;01mnot\u001b[39;00m \u001b[38;5;129;01min\u001b[39;00m mode:\n\u001b[32m   1879\u001b[39m         mode += \u001b[33m\"\u001b[39m\u001b[33mb\u001b[39m\u001b[33m\"\u001b[39m\n\u001b[32m-> \u001b[39m\u001b[32m1880\u001b[39m \u001b[38;5;28mself\u001b[39m.handles = \u001b[43mget_handle\u001b[49m\u001b[43m(\u001b[49m\n\u001b[32m   1881\u001b[39m \u001b[43m    \u001b[49m\u001b[43mf\u001b[49m\u001b[43m,\u001b[49m\n\u001b[32m   1882\u001b[39m \u001b[43m    \u001b[49m\u001b[43mmode\u001b[49m\u001b[43m,\u001b[49m\n\u001b[32m   1883\u001b[39m \u001b[43m    \u001b[49m\u001b[43mencoding\u001b[49m\u001b[43m=\u001b[49m\u001b[38;5;28;43mself\u001b[39;49m\u001b[43m.\u001b[49m\u001b[43moptions\u001b[49m\u001b[43m.\u001b[49m\u001b[43mget\u001b[49m\u001b[43m(\u001b[49m\u001b[33;43m\"\u001b[39;49m\u001b[33;43mencoding\u001b[39;49m\u001b[33;43m\"\u001b[39;49m\u001b[43m,\u001b[49m\u001b[43m \u001b[49m\u001b[38;5;28;43;01mNone\u001b[39;49;00m\u001b[43m)\u001b[49m\u001b[43m,\u001b[49m\n\u001b[32m   1884\u001b[39m \u001b[43m    \u001b[49m\u001b[43mcompression\u001b[49m\u001b[43m=\u001b[49m\u001b[38;5;28;43mself\u001b[39;49m\u001b[43m.\u001b[49m\u001b[43moptions\u001b[49m\u001b[43m.\u001b[49m\u001b[43mget\u001b[49m\u001b[43m(\u001b[49m\u001b[33;43m\"\u001b[39;49m\u001b[33;43mcompression\u001b[39;49m\u001b[33;43m\"\u001b[39;49m\u001b[43m,\u001b[49m\u001b[43m \u001b[49m\u001b[38;5;28;43;01mNone\u001b[39;49;00m\u001b[43m)\u001b[49m\u001b[43m,\u001b[49m\n\u001b[32m   1885\u001b[39m \u001b[43m    \u001b[49m\u001b[43mmemory_map\u001b[49m\u001b[43m=\u001b[49m\u001b[38;5;28;43mself\u001b[39;49m\u001b[43m.\u001b[49m\u001b[43moptions\u001b[49m\u001b[43m.\u001b[49m\u001b[43mget\u001b[49m\u001b[43m(\u001b[49m\u001b[33;43m\"\u001b[39;49m\u001b[33;43mmemory_map\u001b[39;49m\u001b[33;43m\"\u001b[39;49m\u001b[43m,\u001b[49m\u001b[43m \u001b[49m\u001b[38;5;28;43;01mFalse\u001b[39;49;00m\u001b[43m)\u001b[49m\u001b[43m,\u001b[49m\n\u001b[32m   1886\u001b[39m \u001b[43m    \u001b[49m\u001b[43mis_text\u001b[49m\u001b[43m=\u001b[49m\u001b[43mis_text\u001b[49m\u001b[43m,\u001b[49m\n\u001b[32m   1887\u001b[39m \u001b[43m    \u001b[49m\u001b[43merrors\u001b[49m\u001b[43m=\u001b[49m\u001b[38;5;28;43mself\u001b[39;49m\u001b[43m.\u001b[49m\u001b[43moptions\u001b[49m\u001b[43m.\u001b[49m\u001b[43mget\u001b[49m\u001b[43m(\u001b[49m\u001b[33;43m\"\u001b[39;49m\u001b[33;43mencoding_errors\u001b[39;49m\u001b[33;43m\"\u001b[39;49m\u001b[43m,\u001b[49m\u001b[43m \u001b[49m\u001b[33;43m\"\u001b[39;49m\u001b[33;43mstrict\u001b[39;49m\u001b[33;43m\"\u001b[39;49m\u001b[43m)\u001b[49m\u001b[43m,\u001b[49m\n\u001b[32m   1888\u001b[39m \u001b[43m    \u001b[49m\u001b[43mstorage_options\u001b[49m\u001b[43m=\u001b[49m\u001b[38;5;28;43mself\u001b[39;49m\u001b[43m.\u001b[49m\u001b[43moptions\u001b[49m\u001b[43m.\u001b[49m\u001b[43mget\u001b[49m\u001b[43m(\u001b[49m\u001b[33;43m\"\u001b[39;49m\u001b[33;43mstorage_options\u001b[39;49m\u001b[33;43m\"\u001b[39;49m\u001b[43m,\u001b[49m\u001b[43m \u001b[49m\u001b[38;5;28;43;01mNone\u001b[39;49;00m\u001b[43m)\u001b[49m\u001b[43m,\u001b[49m\n\u001b[32m   1889\u001b[39m \u001b[43m\u001b[49m\u001b[43m)\u001b[49m\n\u001b[32m   1890\u001b[39m \u001b[38;5;28;01massert\u001b[39;00m \u001b[38;5;28mself\u001b[39m.handles \u001b[38;5;129;01mis\u001b[39;00m \u001b[38;5;129;01mnot\u001b[39;00m \u001b[38;5;28;01mNone\u001b[39;00m\n\u001b[32m   1891\u001b[39m f = \u001b[38;5;28mself\u001b[39m.handles.handle\n",
      "\u001b[36mFile \u001b[39m\u001b[32mc:\\githubRepos\\exploreDatasets\\.venv\\Lib\\site-packages\\pandas\\io\\common.py:873\u001b[39m, in \u001b[36mget_handle\u001b[39m\u001b[34m(path_or_buf, mode, encoding, compression, memory_map, is_text, errors, storage_options)\u001b[39m\n\u001b[32m    868\u001b[39m \u001b[38;5;28;01melif\u001b[39;00m \u001b[38;5;28misinstance\u001b[39m(handle, \u001b[38;5;28mstr\u001b[39m):\n\u001b[32m    869\u001b[39m     \u001b[38;5;66;03m# Check whether the filename is to be opened in binary mode.\u001b[39;00m\n\u001b[32m    870\u001b[39m     \u001b[38;5;66;03m# Binary mode does not support 'encoding' and 'newline'.\u001b[39;00m\n\u001b[32m    871\u001b[39m     \u001b[38;5;28;01mif\u001b[39;00m ioargs.encoding \u001b[38;5;129;01mand\u001b[39;00m \u001b[33m\"\u001b[39m\u001b[33mb\u001b[39m\u001b[33m\"\u001b[39m \u001b[38;5;129;01mnot\u001b[39;00m \u001b[38;5;129;01min\u001b[39;00m ioargs.mode:\n\u001b[32m    872\u001b[39m         \u001b[38;5;66;03m# Encoding\u001b[39;00m\n\u001b[32m--> \u001b[39m\u001b[32m873\u001b[39m         handle = \u001b[38;5;28;43mopen\u001b[39;49m\u001b[43m(\u001b[49m\n\u001b[32m    874\u001b[39m \u001b[43m            \u001b[49m\u001b[43mhandle\u001b[49m\u001b[43m,\u001b[49m\n\u001b[32m    875\u001b[39m \u001b[43m            \u001b[49m\u001b[43mioargs\u001b[49m\u001b[43m.\u001b[49m\u001b[43mmode\u001b[49m\u001b[43m,\u001b[49m\n\u001b[32m    876\u001b[39m \u001b[43m            \u001b[49m\u001b[43mencoding\u001b[49m\u001b[43m=\u001b[49m\u001b[43mioargs\u001b[49m\u001b[43m.\u001b[49m\u001b[43mencoding\u001b[49m\u001b[43m,\u001b[49m\n\u001b[32m    877\u001b[39m \u001b[43m            \u001b[49m\u001b[43merrors\u001b[49m\u001b[43m=\u001b[49m\u001b[43merrors\u001b[49m\u001b[43m,\u001b[49m\n\u001b[32m    878\u001b[39m \u001b[43m            \u001b[49m\u001b[43mnewline\u001b[49m\u001b[43m=\u001b[49m\u001b[33;43m\"\u001b[39;49m\u001b[33;43m\"\u001b[39;49m\u001b[43m,\u001b[49m\n\u001b[32m    879\u001b[39m \u001b[43m        \u001b[49m\u001b[43m)\u001b[49m\n\u001b[32m    880\u001b[39m     \u001b[38;5;28;01melse\u001b[39;00m:\n\u001b[32m    881\u001b[39m         \u001b[38;5;66;03m# Binary mode\u001b[39;00m\n\u001b[32m    882\u001b[39m         handle = \u001b[38;5;28mopen\u001b[39m(handle, ioargs.mode)\n",
      "\u001b[31mFileNotFoundError\u001b[39m: [Errno 2] No such file or directory: './greedFearIndex/whit3rabbit-fear-greed-data/fear-greed-2011-2023.csv'"
     ]
    }
   ],
   "source": [
    "#fearAndGreed = pd.read_csv(\"./ghostiee11/fear_greed_index.csv\")\n",
    "#fearAndGreed = fearAndGreed.rename(columns={\"date\": \"Date\", \"value\": \"FearGreed\"})\n",
    "#fearAndGreed[\"Date\"] = pd.to_datetime(fearAndGreed[\"Date\"], format=\"%Y-%m-%d\")\n",
    "#fearAndGreed=fearAndGreed[[\"Date\",\"FearGreed\"]]\n",
    "\n",
    "fearAndGreed = pd.read_csv(\"./greedFearIndex/whit3rabbit-fear-greed-data/fear-greed-2011-2023.csv\")\n",
    "fearAndGreed = fearAndGreed.rename(columns={\"Fear Greed\": \"FearGreed\"})\n",
    "fearAndGreed[\"Date\"] = pd.to_datetime(fearAndGreed[\"Date\"], format=\"mixed\")\n",
    "#fearAndGreed=fearAndGreed[[\"Date\",\"FearGreed\"]]\n",
    "\n",
    "fearAndGreed1=pd.read_csv(\"./my/openStockAlert.csv\",delimiter=\";\")\n",
    "fearAndGreed1 = fearAndGreed1.rename(columns={\"Datetime\": \"Date\"})\n",
    "fearAndGreed1[\"Date\"] = pd.to_datetime(fearAndGreed1[\"Date\"], format=\"mixed\")\n",
    "fearAndGreed1=fearAndGreed1[[\"Date\",\"FearGreed\"]]\n",
    "\n",
    "fearAndGreed2=pd.read_csv(\"./my/CNNTimeline.csv\",delimiter=\";\")\n",
    "fearAndGreed2 = fearAndGreed2.rename(columns={\"Datetime\": \"Date\"})\n",
    "fearAndGreed2[\"Date\"] = pd.to_datetime(fearAndGreed2[\"Date\"], unit='ms').dt.strftime('%Y-%m-%d')\n",
    "fearAndGreed2[\"Date\"] = pd.to_datetime(fearAndGreed2[\"Date\"])\n",
    "fearAndGreed2=fearAndGreed2[[\"Date\",\"FearGreed\"]]"
   ]
  },
  {
   "cell_type": "code",
   "execution_count": 44,
   "id": "302b05da",
   "metadata": {},
   "outputs": [
    {
     "name": "stdout",
     "output_type": "stream",
     "text": [
      "           Date  FearGreed\n",
      "0    2011-01-03  68.000000\n",
      "1    2011-01-04  68.000000\n",
      "2    2011-01-05  67.000000\n",
      "3    2011-01-06  64.000000\n",
      "4    2011-01-07  63.000000\n",
      "...         ...        ...\n",
      "3613 2025-06-10  63.600000\n",
      "3614 2025-06-11  61.657143\n",
      "3615 2025-06-12  60.114286\n",
      "3616 2025-06-13  59.885714\n",
      "3617 2025-06-13  59.885714\n",
      "\n",
      "[3618 rows x 2 columns]\n"
     ]
    }
   ],
   "source": [
    "# Merge all three datasets based on Date, keeping all columns\n",
    "# First merge fearAndGreed with fearAndGreed1\n",
    "merged_df = pd.merge(fearAndGreed, fearAndGreed1, on='Date', how='outer', suffixes=('_dataset1', '_dataset2'))\n",
    "\n",
    "# Create a single FearGreed column, prioritizing fearAndGreed1 (dataset2) when both exist\n",
    "merged_df['FearGreed'] = merged_df['FearGreed_dataset2'].fillna(merged_df['FearGreed_dataset1'])\n",
    "\n",
    "# Drop the separate columns since we now have the combined one\n",
    "merged_df = merged_df[['Date', 'FearGreed']]\n",
    "\n",
    "# Then merge with fearAndGreed2\n",
    "combined_fearAndGreed = pd.merge(merged_df, fearAndGreed2, on='Date', how='outer', suffixes=('', '_CNN'))\n",
    "# Create a single FearGreed column, prioritizing fearAndGreed2 (CNN) when both exist\n",
    "combined_fearAndGreed['FearGreed'] = combined_fearAndGreed['FearGreed_CNN'].fillna(combined_fearAndGreed['FearGreed'])\n",
    "# Drop the separate FearGreed columns since we now have the combined one\n",
    "combined_fearAndGreed = combined_fearAndGreed[['Date', 'FearGreed']]\n",
    "\n",
    "# Rename the columns to be more descriptive\n",
    "#combined_fearAndGreed = combined_fearAndGreed.rename(columns={\n",
    "#    'FearGreed_dataset1': 'FearGreed_Kaggle',\n",
    "#    'FearGreed_dataset2': 'FearGreed_OpenStock', \n",
    "#    'FearGreed': 'FearGreed_CNN'\n",
    "#})\n",
    "\n",
    "# Sort by Date\n",
    "#combined_fearAndGreed = combined_fearAndGreed.sort_values('Date').reset_index(drop=True)\n",
    "\n",
    "print(combined_fearAndGreed)\n"
   ]
  },
  {
   "cell_type": "code",
   "execution_count": 41,
   "id": "75a20d2b",
   "metadata": {},
   "outputs": [
    {
     "name": "stdout",
     "output_type": "stream",
     "text": [
      "           Date  FearGreed\n",
      "0    2011-01-03         68\n",
      "1    2011-01-04         68\n",
      "2    2011-01-05         67\n",
      "3    2011-01-06         64\n",
      "4    2011-01-07         63\n",
      "...         ...        ...\n",
      "3247 2023-12-22         78\n",
      "3248 2023-12-26         80\n",
      "3249 2023-12-27         76\n",
      "3250 2023-12-28         78\n",
      "3251 2023-12-29         76\n",
      "\n",
      "[3252 rows x 2 columns]\n",
      "          Date  FearGreed\n",
      "0   2021-05-17      35.60\n",
      "1   2021-05-18      34.83\n",
      "2   2021-05-19      31.87\n",
      "3   2021-05-20      33.37\n",
      "4   2021-05-21      29.70\n",
      "..         ...        ...\n",
      "922 2025-01-16      34.11\n",
      "923 2025-01-17      37.69\n",
      "924 2025-01-21      41.14\n",
      "925 2025-01-22      43.31\n",
      "926 2025-01-23      46.43\n",
      "\n",
      "[927 rows x 2 columns]\n",
      "          Date  FearGreed\n",
      "0   2024-06-14  41.114286\n",
      "1   2024-06-17  43.285714\n",
      "2   2024-06-18  41.285714\n",
      "3   2024-06-20  38.714286\n",
      "4   2024-06-21  39.057143\n",
      "..         ...        ...\n",
      "247 2025-06-10  63.600000\n",
      "248 2025-06-11  61.657143\n",
      "249 2025-06-12  60.114286\n",
      "250 2025-06-13  59.885714\n",
      "251 2025-06-13  59.885714\n",
      "\n",
      "[252 rows x 2 columns]\n"
     ]
    }
   ],
   "source": [
    "print(fearAndGreed)\n",
    "print(fearAndGreed1)\n",
    "print(fearAndGreed2)"
   ]
  },
  {
   "cell_type": "code",
   "execution_count": null,
   "id": "97ca30c1",
   "metadata": {},
   "outputs": [],
   "source": [
    "combined_fearAndGreed.to_csv('fearAndGreed.csv', sep=';', index=False)"
   ]
  },
  {
   "cell_type": "markdown",
   "id": "a129b0c6",
   "metadata": {},
   "source": [
    "# import VIX\n",
    "\n",
    "This will pulled from my API"
   ]
  },
  {
   "cell_type": "code",
   "execution_count": null,
   "id": "eeac4cac",
   "metadata": {},
   "outputs": [
    {
     "name": "stdout",
     "output_type": "stream",
     "text": [
      "            date        VIX\n",
      "5295  2011-01-03  17.610001\n",
      "5296  2011-01-04  17.379999\n",
      "5297  2011-01-05  17.020000\n",
      "5298  2011-01-06  17.400000\n",
      "5299  2011-01-07  17.139999\n",
      "...          ...        ...\n",
      "8925  2025-06-09  17.160000\n",
      "8926  2025-06-10  16.950001\n",
      "8927  2025-06-11  17.260000\n",
      "8928  2025-06-12  18.020000\n",
      "8929  2025-06-13  20.820000\n",
      "\n",
      "[3635 rows x 2 columns]\n"
     ]
    }
   ],
   "source": [
    "codeVix, vixHistoryData = api_client.get(\"getIndexHistory\", {'tickerSymbol':'^VIX'})\n",
    "if codeVix == 0:\n",
    "    vixHistoryData=pd.DataFrame(vixHistoryData)\n",
    "    vixHistoryData['Date'] = pd.to_datetime(vixHistoryData['Date'], unit='ms')\n",
    "    vixHistoryData = vixHistoryData[\n",
    "        (vixHistoryData['Date'] >= pd.Timestamp('2011-01-03')) &\n",
    "        (vixHistoryData['Date'] <= pd.Timestamp('2025-06-13'))\n",
    "    ]\n",
    "    vixHistoryData['Date'] = vixHistoryData['Date'].dt.strftime('%Y-%m-%d')\n",
    "    vixHistoryData = vixHistoryData.rename(columns={\"Close\": \"VIX\"})\n",
    "    vixHistoryData = vixHistoryData[['Date', 'VIX']]\n",
    "    print(vixHistoryData)\n",
    "else:\n",
    "    print(\"Error fetching VIX history data:\", codeVix, vixHistoryData)"
   ]
  },
  {
   "cell_type": "code",
   "execution_count": 9,
   "id": "d130493b",
   "metadata": {},
   "outputs": [],
   "source": [
    "vixHistoryData.to_csv('../datasets/vixHistoryData.csv', sep=',', index=False)"
   ]
  },
  {
   "cell_type": "markdown",
   "id": "ed25963d",
   "metadata": {},
   "source": [
    "# AAII sentiment\n",
    "\n",
    "Sentiment Survey Historical Data\n",
    "\n",
    "https://www.aaii.com/sentimentsurvey/sent_results"
   ]
  }
 ],
 "metadata": {
  "kernelspec": {
   "display_name": ".venv",
   "language": "python",
   "name": "python3"
  },
  "language_info": {
   "codemirror_mode": {
    "name": "ipython",
    "version": 3
   },
   "file_extension": ".py",
   "mimetype": "text/x-python",
   "name": "python",
   "nbconvert_exporter": "python",
   "pygments_lexer": "ipython3",
   "version": "3.12.10"
  }
 },
 "nbformat": 4,
 "nbformat_minor": 5
}

{
 "cells": [
  {
   "cell_type": "code",
   "execution_count": 1,
   "id": "99b9ab73",
   "metadata": {},
   "outputs": [],
   "source": [
    "#import kagglehub\n",
    "import pandas as pd"
   ]
  },
  {
   "cell_type": "markdown",
   "id": "d4ccd1b0",
   "metadata": {},
   "source": [
    "# Trader fear greed index\n",
    "\n",
    "Kaggle dataset from ghostiee11\n",
    "\n",
    "First download in 2025-06-14\n",
    "\n",
    "I've downloaded and saved in the folder ghostiee11"
   ]
  },
  {
   "cell_type": "code",
   "execution_count": 1,
   "id": "e1cab466",
   "metadata": {},
   "outputs": [
    {
     "ename": "NameError",
     "evalue": "name 'kagglehub' is not defined",
     "output_type": "error",
     "traceback": [
      "\u001b[31m---------------------------------------------------------------------------\u001b[39m",
      "\u001b[31mNameError\u001b[39m                                 Traceback (most recent call last)",
      "\u001b[36mCell\u001b[39m\u001b[36m \u001b[39m\u001b[32mIn[1]\u001b[39m\u001b[32m, line 2\u001b[39m\n\u001b[32m      1\u001b[39m \u001b[38;5;66;03m# Download latest version\u001b[39;00m\n\u001b[32m----> \u001b[39m\u001b[32m2\u001b[39m path = \u001b[43mkagglehub\u001b[49m.dataset_download(\u001b[33m\"\u001b[39m\u001b[33mghostiee11/primetrade-data\u001b[39m\u001b[33m\"\u001b[39m)\n\u001b[32m      4\u001b[39m \u001b[38;5;28mprint\u001b[39m(\u001b[33m\"\u001b[39m\u001b[33mPath to dataset files:\u001b[39m\u001b[33m\"\u001b[39m, path)\n",
      "\u001b[31mNameError\u001b[39m: name 'kagglehub' is not defined"
     ]
    }
   ],
   "source": [
    "#import kagglehub\n",
    "# Download latest version\n",
    "path = kagglehub.dataset_download(\"ghostiee11/primetrade-data\")\n",
    "\n",
    "print(\"Path to dataset files:\", path)"
   ]
  },
  {
   "cell_type": "markdown",
   "id": "83aa0b46",
   "metadata": {},
   "source": [
    "I've mannually saved in my folder:\n",
    "\n",
    "CNNtimeline.csv\n",
    "\n",
    "OpenStockAlerts.csv"
   ]
  },
  {
   "cell_type": "code",
   "execution_count": 40,
   "id": "038802a8",
   "metadata": {},
   "outputs": [],
   "source": [
    "#fearAndGreed = pd.read_csv(\"./ghostiee11/fear_greed_index.csv\")\n",
    "#fearAndGreed = fearAndGreed.rename(columns={\"date\": \"Date\", \"value\": \"FearGreed\"})\n",
    "#fearAndGreed[\"Date\"] = pd.to_datetime(fearAndGreed[\"Date\"], format=\"%Y-%m-%d\")\n",
    "#fearAndGreed=fearAndGreed[[\"Date\",\"FearGreed\"]]\n",
    "\n",
    "fearAndGreed = pd.read_csv(\"./greedFearIndex/whit3rabbit-fear-greed-data/fear-greed-2011-2023.csv\")\n",
    "fearAndGreed = fearAndGreed.rename(columns={\"Fear Greed\": \"FearGreed\"})\n",
    "fearAndGreed[\"Date\"] = pd.to_datetime(fearAndGreed[\"Date\"], format=\"mixed\")\n",
    "#fearAndGreed=fearAndGreed[[\"Date\",\"FearGreed\"]]\n",
    "\n",
    "fearAndGreed1=pd.read_csv(\"./my/openStockAlert.csv\",delimiter=\";\")\n",
    "fearAndGreed1 = fearAndGreed1.rename(columns={\"Datetime\": \"Date\"})\n",
    "fearAndGreed1[\"Date\"] = pd.to_datetime(fearAndGreed1[\"Date\"], format=\"mixed\")\n",
    "fearAndGreed1=fearAndGreed1[[\"Date\",\"FearGreed\"]]\n",
    "\n",
    "fearAndGreed2=pd.read_csv(\"./my/CNNTimeline.csv\",delimiter=\";\")\n",
    "fearAndGreed2 = fearAndGreed2.rename(columns={\"Datetime\": \"Date\"})\n",
    "fearAndGreed2[\"Date\"] = pd.to_datetime(fearAndGreed2[\"Date\"], unit='ms').dt.strftime('%Y-%m-%d')\n",
    "fearAndGreed2[\"Date\"] = pd.to_datetime(fearAndGreed2[\"Date\"])\n",
    "fearAndGreed2=fearAndGreed2[[\"Date\",\"FearGreed\"]]"
   ]
  },
  {
   "cell_type": "code",
   "execution_count": 44,
   "id": "302b05da",
   "metadata": {},
   "outputs": [
    {
     "name": "stdout",
     "output_type": "stream",
     "text": [
      "           Date  FearGreed\n",
      "0    2011-01-03  68.000000\n",
      "1    2011-01-04  68.000000\n",
      "2    2011-01-05  67.000000\n",
      "3    2011-01-06  64.000000\n",
      "4    2011-01-07  63.000000\n",
      "...         ...        ...\n",
      "3613 2025-06-10  63.600000\n",
      "3614 2025-06-11  61.657143\n",
      "3615 2025-06-12  60.114286\n",
      "3616 2025-06-13  59.885714\n",
      "3617 2025-06-13  59.885714\n",
      "\n",
      "[3618 rows x 2 columns]\n"
     ]
    }
   ],
   "source": [
    "# Merge all three datasets based on Date, keeping all columns\n",
    "# First merge fearAndGreed with fearAndGreed1\n",
    "merged_df = pd.merge(fearAndGreed, fearAndGreed1, on='Date', how='outer', suffixes=('_dataset1', '_dataset2'))\n",
    "\n",
    "# Create a single FearGreed column, prioritizing fearAndGreed1 (dataset2) when both exist\n",
    "merged_df['FearGreed'] = merged_df['FearGreed_dataset2'].fillna(merged_df['FearGreed_dataset1'])\n",
    "\n",
    "# Drop the separate columns since we now have the combined one\n",
    "merged_df = merged_df[['Date', 'FearGreed']]\n",
    "\n",
    "# Then merge with fearAndGreed2\n",
    "combined_fearAndGreed = pd.merge(merged_df, fearAndGreed2, on='Date', how='outer', suffixes=('', '_CNN'))\n",
    "# Create a single FearGreed column, prioritizing fearAndGreed2 (CNN) when both exist\n",
    "combined_fearAndGreed['FearGreed'] = combined_fearAndGreed['FearGreed_CNN'].fillna(combined_fearAndGreed['FearGreed'])\n",
    "# Drop the separate FearGreed columns since we now have the combined one\n",
    "combined_fearAndGreed = combined_fearAndGreed[['Date', 'FearGreed']]\n",
    "\n",
    "# Rename the columns to be more descriptive\n",
    "#combined_fearAndGreed = combined_fearAndGreed.rename(columns={\n",
    "#    'FearGreed_dataset1': 'FearGreed_Kaggle',\n",
    "#    'FearGreed_dataset2': 'FearGreed_OpenStock', \n",
    "#    'FearGreed': 'FearGreed_CNN'\n",
    "#})\n",
    "\n",
    "# Sort by Date\n",
    "#combined_fearAndGreed = combined_fearAndGreed.sort_values('Date').reset_index(drop=True)\n",
    "\n",
    "print(combined_fearAndGreed)\n"
   ]
  },
  {
   "cell_type": "code",
   "execution_count": 41,
   "id": "75a20d2b",
   "metadata": {},
   "outputs": [
    {
     "name": "stdout",
     "output_type": "stream",
     "text": [
      "           Date  FearGreed\n",
      "0    2011-01-03         68\n",
      "1    2011-01-04         68\n",
      "2    2011-01-05         67\n",
      "3    2011-01-06         64\n",
      "4    2011-01-07         63\n",
      "...         ...        ...\n",
      "3247 2023-12-22         78\n",
      "3248 2023-12-26         80\n",
      "3249 2023-12-27         76\n",
      "3250 2023-12-28         78\n",
      "3251 2023-12-29         76\n",
      "\n",
      "[3252 rows x 2 columns]\n",
      "          Date  FearGreed\n",
      "0   2021-05-17      35.60\n",
      "1   2021-05-18      34.83\n",
      "2   2021-05-19      31.87\n",
      "3   2021-05-20      33.37\n",
      "4   2021-05-21      29.70\n",
      "..         ...        ...\n",
      "922 2025-01-16      34.11\n",
      "923 2025-01-17      37.69\n",
      "924 2025-01-21      41.14\n",
      "925 2025-01-22      43.31\n",
      "926 2025-01-23      46.43\n",
      "\n",
      "[927 rows x 2 columns]\n",
      "          Date  FearGreed\n",
      "0   2024-06-14  41.114286\n",
      "1   2024-06-17  43.285714\n",
      "2   2024-06-18  41.285714\n",
      "3   2024-06-20  38.714286\n",
      "4   2024-06-21  39.057143\n",
      "..         ...        ...\n",
      "247 2025-06-10  63.600000\n",
      "248 2025-06-11  61.657143\n",
      "249 2025-06-12  60.114286\n",
      "250 2025-06-13  59.885714\n",
      "251 2025-06-13  59.885714\n",
      "\n",
      "[252 rows x 2 columns]\n"
     ]
    }
   ],
   "source": [
    "print(fearAndGreed)\n",
    "print(fearAndGreed1)\n",
    "print(fearAndGreed2)"
   ]
  },
  {
   "cell_type": "code",
   "execution_count": null,
   "id": "97ca30c1",
   "metadata": {},
   "outputs": [],
   "source": [
    "combined_fearAndGreed.to_csv('fearAndGreed.csv', sep=';', index=False)"
   ]
  }
 ],
 "metadata": {
  "kernelspec": {
   "display_name": ".venv",
   "language": "python",
   "name": "python3"
  },
  "language_info": {
   "codemirror_mode": {
    "name": "ipython",
    "version": 3
   },
   "file_extension": ".py",
   "mimetype": "text/x-python",
   "name": "python",
   "nbconvert_exporter": "python",
   "pygments_lexer": "ipython3",
   "version": "3.12.10"
  }
 },
 "nbformat": 4,
 "nbformat_minor": 5
}

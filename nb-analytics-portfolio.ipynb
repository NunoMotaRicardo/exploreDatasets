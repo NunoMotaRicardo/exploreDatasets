{
 "cells": [
  {
   "cell_type": "code",
   "execution_count": null,
   "id": "1c8fdb91",
   "metadata": {
    "vscode": {
     "languageId": "javascript"
    }
   },
   "outputs": [
    {
     "name": "stdout",
     "output_type": "stream",
     "text": [
      "importing Tools version 1.0.0\n"
     ]
    }
   ],
   "source": [
    "import pandas as pd\n",
    "import os\n",
    "import sys\n",
    "\n",
    "from Tools.ApiClient import ApiClient\n",
    "\n",
    "dataFolderPath = './'\n",
    "portfolioFolderPath = dataFolderPath\n",
    "portfolioFilePath = os.path.join(portfolioFolderPath, 'portfolio.csv')"
   ]
  },
  {
   "cell_type": "code",
   "execution_count": null,
   "id": "afc6c9d7",
   "metadata": {},
   "outputs": [],
   "source": [
    "\n",
    "portfolio_df = pd.read_csv(portfolioFilePath,delimiter=';', index_col=0)\n",
    "portfolio_dict = {symbol: {'quantity': quantity} for symbol, quantity in portfolio_df['quantity'].items()}"
   ]
  },
  {
   "cell_type": "code",
   "execution_count": 4,
   "id": "9094091a",
   "metadata": {},
   "outputs": [
    {
     "data": {
      "text/plain": [
       "42"
      ]
     },
     "execution_count": 4,
     "metadata": {},
     "output_type": "execute_result"
    }
   ],
   "source": [
    "Tools.magic_number"
   ]
  }
 ],
 "metadata": {
  "kernelspec": {
   "display_name": ".venv (3.12.10)",
   "language": "python",
   "name": "python3"
  },
  "language_info": {
   "codemirror_mode": {
    "name": "ipython",
    "version": 3
   },
   "file_extension": ".py",
   "mimetype": "text/x-python",
   "name": "python",
   "nbconvert_exporter": "python",
   "pygments_lexer": "ipython3",
   "version": "3.12.10"
  }
 },
 "nbformat": 4,
 "nbformat_minor": 5
}

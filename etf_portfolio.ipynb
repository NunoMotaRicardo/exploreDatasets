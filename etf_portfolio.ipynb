{
 "cells": [
  {
   "cell_type": "markdown",
   "id": "16fdc339",
   "metadata": {},
   "source": [
    "# simulate an ETF portfolio\n",
    "\n",
    "Peso\n",
    "\n",
    "ISIN de exemplo no BIG\n",
    "\n",
    "| Peso   | Categoria/Link                                                                 | yahooSymbol | ISIN           |\n",
    "|--------|--------------------------------------------------------------------------------|-------------|----------------|\n",
    "| 4000% | [Nasdaq 100 ETFs](https://www.justetf.com/en/how-to/nasdaq-100-etfs.html)      | NQSE.DE     | IE00BYVQ9F29   |\n",
    "| 2000% | [Defense](https://www.justetf.com/en/how-to/invest-in-defense.html)            | DFEN.DE     | IE000YYE6WK5   |\n",
    "| 1500% | [Goldmines](https://www.justetf.com/en/how-to/invest-in-goldmines.html)        | PHYMF       | IE00B4ND3602   |\n",
    "| 1500% | [Space](https://www.justetf.com/en/how-to/invest-in-space.html)                | JEDG.L      | IE000YU9K6K2   |\n",
    "| 5,00%  | [Uranium](https://www.justetf.com/en/how-to/invest-in-uranium.html)            | IE000NDWFGA5.SG | IE000NDWFGA5   |\n",
    "| 5,00%  | [Artificial Intelligence](https://www.justetf.com/en/how-to/invest-in-artificial-intelligence.html) | IE00BK5BCD43.SG    | IE00BK5BCD43   |\n"
   ]
  },
  {
   "cell_type": "code",
   "execution_count": 1,
   "id": "7aac45dc",
   "metadata": {},
   "outputs": [],
   "source": [
    "import pandas as pd\n",
    "import yahooquery as yq"
   ]
  },
  {
   "cell_type": "code",
   "execution_count": 11,
   "id": "945192cf",
   "metadata": {},
   "outputs": [
    {
     "data": {
      "application/vnd.microsoft.datawrangler.viewer.v0+json": {
       "columns": [
        {
         "name": "index",
         "rawType": "int64",
         "type": "integer"
        },
        {
         "name": "weight",
         "rawType": "int64",
         "type": "integer"
        },
        {
         "name": "Category",
         "rawType": "object",
         "type": "string"
        },
        {
         "name": "Link",
         "rawType": "object",
         "type": "string"
        },
        {
         "name": "yahooSymbol",
         "rawType": "object",
         "type": "string"
        },
        {
         "name": "ISIN",
         "rawType": "object",
         "type": "string"
        }
       ],
       "ref": "91064a85-9a69-4b50-a57e-650c8d467509",
       "rows": [
        [
         "0",
         "40",
         "[Nasdaq100ETFs]",
         "https://www.justetf.com/en/how-to/nasdaq-100-etfs.html",
         "NQSE.DE",
         "IE00BYVQ9F29"
        ],
        [
         "1",
         "20",
         "[Defense]",
         "https://www.justetf.com/en/how-to/invest-in-defense.html",
         "DFEN.DE",
         "IE000YYE6WK5"
        ],
        [
         "2",
         "15",
         "[Goldmines]",
         "https://www.justetf.com/en/how-to/invest-in-goldmines.html",
         "PHYMF",
         "IE00B4ND3602"
        ],
        [
         "3",
         "15",
         "[Space]",
         "https://www.justetf.com/en/how-to/invest-in-space.html",
         "JEDG.L",
         "IE000YU9K6K2"
        ],
        [
         "4",
         "5",
         "[Uranium]",
         "https://www.justetf.com/en/how-to/invest-in-uranium.html",
         "IE000NDWFGA5.SG",
         "IE000NDWFGA5"
        ],
        [
         "5",
         "5",
         "[ArtificialIntelligence]",
         "https://www.justetf.com/en/how-to/invest-in-artificial-intelligence.html",
         "IE00BK5BCD43.SG",
         "IE00BK5BCD43"
        ]
       ],
       "shape": {
        "columns": 5,
        "rows": 6
       }
      },
      "text/html": [
       "<div>\n",
       "<style scoped>\n",
       "    .dataframe tbody tr th:only-of-type {\n",
       "        vertical-align: middle;\n",
       "    }\n",
       "\n",
       "    .dataframe tbody tr th {\n",
       "        vertical-align: top;\n",
       "    }\n",
       "\n",
       "    .dataframe thead th {\n",
       "        text-align: right;\n",
       "    }\n",
       "</style>\n",
       "<table border=\"1\" class=\"dataframe\">\n",
       "  <thead>\n",
       "    <tr style=\"text-align: right;\">\n",
       "      <th></th>\n",
       "      <th>weight</th>\n",
       "      <th>Category</th>\n",
       "      <th>Link</th>\n",
       "      <th>yahooSymbol</th>\n",
       "      <th>ISIN</th>\n",
       "    </tr>\n",
       "  </thead>\n",
       "  <tbody>\n",
       "    <tr>\n",
       "      <th>0</th>\n",
       "      <td>40</td>\n",
       "      <td>[Nasdaq100ETFs]</td>\n",
       "      <td>https://www.justetf.com/en/how-to/nasdaq-100-e...</td>\n",
       "      <td>NQSE.DE</td>\n",
       "      <td>IE00BYVQ9F29</td>\n",
       "    </tr>\n",
       "    <tr>\n",
       "      <th>1</th>\n",
       "      <td>20</td>\n",
       "      <td>[Defense]</td>\n",
       "      <td>https://www.justetf.com/en/how-to/invest-in-de...</td>\n",
       "      <td>DFEN.DE</td>\n",
       "      <td>IE000YYE6WK5</td>\n",
       "    </tr>\n",
       "    <tr>\n",
       "      <th>2</th>\n",
       "      <td>15</td>\n",
       "      <td>[Goldmines]</td>\n",
       "      <td>https://www.justetf.com/en/how-to/invest-in-go...</td>\n",
       "      <td>PHYMF</td>\n",
       "      <td>IE00B4ND3602</td>\n",
       "    </tr>\n",
       "    <tr>\n",
       "      <th>3</th>\n",
       "      <td>15</td>\n",
       "      <td>[Space]</td>\n",
       "      <td>https://www.justetf.com/en/how-to/invest-in-sp...</td>\n",
       "      <td>JEDG.L</td>\n",
       "      <td>IE000YU9K6K2</td>\n",
       "    </tr>\n",
       "    <tr>\n",
       "      <th>4</th>\n",
       "      <td>5</td>\n",
       "      <td>[Uranium]</td>\n",
       "      <td>https://www.justetf.com/en/how-to/invest-in-ur...</td>\n",
       "      <td>IE000NDWFGA5.SG</td>\n",
       "      <td>IE000NDWFGA5</td>\n",
       "    </tr>\n",
       "    <tr>\n",
       "      <th>5</th>\n",
       "      <td>5</td>\n",
       "      <td>[ArtificialIntelligence]</td>\n",
       "      <td>https://www.justetf.com/en/how-to/invest-in-ar...</td>\n",
       "      <td>IE00BK5BCD43.SG</td>\n",
       "      <td>IE00BK5BCD43</td>\n",
       "    </tr>\n",
       "  </tbody>\n",
       "</table>\n",
       "</div>"
      ],
      "text/plain": [
       "   weight                  Category  \\\n",
       "0      40           [Nasdaq100ETFs]   \n",
       "1      20                 [Defense]   \n",
       "2      15               [Goldmines]   \n",
       "3      15                   [Space]   \n",
       "4       5                 [Uranium]   \n",
       "5       5  [ArtificialIntelligence]   \n",
       "\n",
       "                                                Link      yahooSymbol  \\\n",
       "0  https://www.justetf.com/en/how-to/nasdaq-100-e...          NQSE.DE   \n",
       "1  https://www.justetf.com/en/how-to/invest-in-de...          DFEN.DE   \n",
       "2  https://www.justetf.com/en/how-to/invest-in-go...            PHYMF   \n",
       "3  https://www.justetf.com/en/how-to/invest-in-sp...           JEDG.L   \n",
       "4  https://www.justetf.com/en/how-to/invest-in-ur...  IE000NDWFGA5.SG   \n",
       "5  https://www.justetf.com/en/how-to/invest-in-ar...  IE00BK5BCD43.SG   \n",
       "\n",
       "           ISIN  \n",
       "0  IE00BYVQ9F29  \n",
       "1  IE000YYE6WK5  \n",
       "2  IE00B4ND3602  \n",
       "3  IE000YU9K6K2  \n",
       "4  IE000NDWFGA5  \n",
       "5  IE00BK5BCD43  "
      ]
     },
     "execution_count": 11,
     "metadata": {},
     "output_type": "execute_result"
    }
   ],
   "source": [
    "\n",
    "\n",
    "etf_df = pd.read_csv('etf_portfolio.csv',delimiter=';')\n",
    "etf_df"
   ]
  },
  {
   "cell_type": "code",
   "execution_count": null,
   "id": "e96e9ad4",
   "metadata": {},
   "outputs": [
    {
     "name": "stdout",
     "output_type": "stream",
     "text": [
      "No historical data found in HTML. The chart data may be loaded dynamically via JavaScript.\n"
     ]
    }
   ],
   "source": [
    "\n"
   ]
  },
  {
   "cell_type": "code",
   "execution_count": 18,
   "id": "f140476f",
   "metadata": {},
   "outputs": [
    {
     "name": "stdout",
     "output_type": "stream",
     "text": [
      "NQSE.DE DFEN.DE PHYMF JEDG.L IE000NDWFGA5.SG IE00BK5BCD43.SG\n"
     ]
    }
   ],
   "source": [
    "symbols = etf_df['yahooSymbol'].str.strip().tolist()\n",
    "symbolsSsv = ' '.join(symbols)\n",
    "print(symbolsSsv)"
   ]
  },
  {
   "cell_type": "code",
   "execution_count": null,
   "id": "38a32bea",
   "metadata": {},
   "outputs": [],
   "source": [
    "\n",
    "\n",
    "\n",
    "data = yq.Ticker(symbols).history(period=\"max\", interval=\"1d\")\n",
    "\n",
    "historicData = None\n",
    "\n",
    "for symbol in symbols:\n",
    "    # Some symbols may not have data, handle gracefully\n",
    "    try:\n",
    "        df = data.loc[(symbol,)].reset_index()\n",
    "        df = df[['date', 'close']].rename(columns={'close': symbol, 'date': 'Date'})\n",
    "        if historicData is None:\n",
    "            historicData = df\n",
    "        else:\n",
    "            historicData = pd.merge(historicData, df, on='Date', how='outer')\n",
    "    except Exception:\n",
    "        continue\n",
    "\n",
    "historicData = historicData.sort_values('Date').reset_index(drop=True)"
   ]
  },
  {
   "cell_type": "code",
   "execution_count": 16,
   "id": "34003919",
   "metadata": {},
   "outputs": [
    {
     "data": {
      "application/vnd.microsoft.datawrangler.viewer.v0+json": {
       "columns": [
        {
         "name": "index",
         "rawType": "int64",
         "type": "integer"
        },
        {
         "name": "Date",
         "rawType": "object",
         "type": "unknown"
        },
        {
         "name": "NQSE.DE",
         "rawType": "float64",
         "type": "float"
        },
        {
         "name": "DFEN.DE",
         "rawType": "float64",
         "type": "float"
        },
        {
         "name": "PHYMF",
         "rawType": "float64",
         "type": "float"
        },
        {
         "name": "JEDG.L",
         "rawType": "float64",
         "type": "float"
        }
       ],
       "ref": "d6add139-94b3-4eeb-b85f-301b622ccd5a",
       "rows": [
        [
         "0",
         "2018-09-10",
         "5.010000228881836",
         null,
         null,
         null
        ],
        [
         "1",
         "2018-09-11",
         "5.050000190734863",
         null,
         null,
         null
        ],
        [
         "2",
         "2018-09-12",
         "5.034999847412109",
         null,
         null,
         null
        ],
        [
         "3",
         "2018-09-13",
         "5.034999847412109",
         null,
         null,
         null
        ],
        [
         "4",
         "2018-09-14",
         "5.034999847412109",
         null,
         null,
         null
        ],
        [
         "5",
         "2018-09-17",
         "5.034999847412109",
         null,
         null,
         null
        ],
        [
         "6",
         "2018-09-18",
         "5.063000202178955",
         null,
         null,
         null
        ],
        [
         "7",
         "2018-09-19",
         "5.063000202178955",
         null,
         null,
         null
        ],
        [
         "8",
         "2018-09-20",
         "5.090000152587891",
         null,
         null,
         null
        ],
        [
         "9",
         "2018-09-21",
         "5.086999893188477",
         null,
         null,
         null
        ],
        [
         "10",
         "2018-09-24",
         "5.061999797821045",
         null,
         null,
         null
        ],
        [
         "11",
         "2018-09-25",
         "5.061999797821045",
         null,
         null,
         null
        ],
        [
         "12",
         "2018-09-26",
         "5.11299991607666",
         null,
         null,
         null
        ],
        [
         "13",
         "2018-09-27",
         "5.135000228881836",
         null,
         null,
         null
        ],
        [
         "14",
         "2018-09-28",
         "5.129000186920166",
         null,
         null,
         null
        ],
        [
         "15",
         "2018-10-01",
         "5.129000186920166",
         null,
         null,
         null
        ],
        [
         "16",
         "2018-10-02",
         "5.1529998779296875",
         null,
         null,
         null
        ],
        [
         "17",
         "2018-10-04",
         "5.043000221252441",
         null,
         null,
         null
        ],
        [
         "18",
         "2018-10-05",
         "5.043000221252441",
         null,
         null,
         null
        ],
        [
         "19",
         "2018-10-08",
         "5.043000221252441",
         null,
         null,
         null
        ],
        [
         "20",
         "2018-10-09",
         "5.043000221252441",
         null,
         null,
         null
        ],
        [
         "21",
         "2018-10-10",
         "4.8354997634887695",
         null,
         null,
         null
        ],
        [
         "22",
         "2018-10-11",
         "4.701000213623047",
         null,
         null,
         null
        ],
        [
         "23",
         "2018-10-12",
         "4.786499977111816",
         null,
         null,
         null
        ],
        [
         "24",
         "2018-10-15",
         "4.7835001945495605",
         null,
         null,
         null
        ],
        [
         "25",
         "2018-10-16",
         "4.7835001945495605",
         null,
         null,
         null
        ],
        [
         "26",
         "2018-10-17",
         "4.7835001945495605",
         null,
         null,
         null
        ],
        [
         "27",
         "2018-10-18",
         "4.794000148773193",
         null,
         null,
         null
        ],
        [
         "28",
         "2018-10-19",
         "4.794000148773193",
         null,
         null,
         null
        ],
        [
         "29",
         "2018-10-22",
         "4.794000148773193",
         null,
         null,
         null
        ],
        [
         "30",
         "2018-10-23",
         "4.695000171661377",
         null,
         null,
         null
        ],
        [
         "31",
         "2018-10-24",
         "4.695000171661377",
         null,
         null,
         null
        ],
        [
         "32",
         "2018-10-25",
         "4.695000171661377",
         null,
         null,
         null
        ],
        [
         "33",
         "2018-10-26",
         "4.695000171661377",
         null,
         null,
         null
        ],
        [
         "34",
         "2018-10-29",
         "4.565999984741211",
         null,
         null,
         null
        ],
        [
         "35",
         "2018-10-30",
         "4.524499893188477",
         null,
         null,
         null
        ],
        [
         "36",
         "2018-10-31",
         "4.672999858856201",
         null,
         null,
         null
        ],
        [
         "37",
         "2018-11-01",
         "4.702499866485596",
         null,
         null,
         null
        ],
        [
         "38",
         "2018-11-02",
         "4.65749979019165",
         null,
         null,
         null
        ],
        [
         "39",
         "2018-11-05",
         "4.611499786376953",
         null,
         null,
         null
        ],
        [
         "40",
         "2018-11-06",
         "4.611499786376953",
         null,
         null,
         null
        ],
        [
         "41",
         "2018-11-07",
         "4.611499786376953",
         null,
         null,
         null
        ],
        [
         "42",
         "2018-11-08",
         "4.802000045776367",
         null,
         null,
         null
        ],
        [
         "43",
         "2018-11-09",
         "4.7154998779296875",
         null,
         null,
         null
        ],
        [
         "44",
         "2018-11-12",
         "4.578999996185303",
         null,
         null,
         null
        ],
        [
         "45",
         "2018-11-13",
         "4.629499912261963",
         null,
         null,
         null
        ],
        [
         "46",
         "2018-11-14",
         "4.551000118255615",
         null,
         null,
         null
        ],
        [
         "47",
         "2018-11-15",
         "4.551000118255615",
         null,
         null,
         null
        ],
        [
         "48",
         "2018-11-16",
         "4.576000213623047",
         null,
         null,
         null
        ],
        [
         "49",
         "2018-11-19",
         "4.486999988555908",
         null,
         null,
         null
        ]
       ],
       "shape": {
        "columns": 5,
        "rows": 1762
       }
      },
      "text/html": [
       "<div>\n",
       "<style scoped>\n",
       "    .dataframe tbody tr th:only-of-type {\n",
       "        vertical-align: middle;\n",
       "    }\n",
       "\n",
       "    .dataframe tbody tr th {\n",
       "        vertical-align: top;\n",
       "    }\n",
       "\n",
       "    .dataframe thead th {\n",
       "        text-align: right;\n",
       "    }\n",
       "</style>\n",
       "<table border=\"1\" class=\"dataframe\">\n",
       "  <thead>\n",
       "    <tr style=\"text-align: right;\">\n",
       "      <th></th>\n",
       "      <th>Date</th>\n",
       "      <th>NQSE.DE</th>\n",
       "      <th>DFEN.DE</th>\n",
       "      <th>PHYMF</th>\n",
       "      <th>JEDG.L</th>\n",
       "    </tr>\n",
       "  </thead>\n",
       "  <tbody>\n",
       "    <tr>\n",
       "      <th>0</th>\n",
       "      <td>2018-09-10</td>\n",
       "      <td>5.010</td>\n",
       "      <td>NaN</td>\n",
       "      <td>NaN</td>\n",
       "      <td>NaN</td>\n",
       "    </tr>\n",
       "    <tr>\n",
       "      <th>1</th>\n",
       "      <td>2018-09-11</td>\n",
       "      <td>5.050</td>\n",
       "      <td>NaN</td>\n",
       "      <td>NaN</td>\n",
       "      <td>NaN</td>\n",
       "    </tr>\n",
       "    <tr>\n",
       "      <th>2</th>\n",
       "      <td>2018-09-12</td>\n",
       "      <td>5.035</td>\n",
       "      <td>NaN</td>\n",
       "      <td>NaN</td>\n",
       "      <td>NaN</td>\n",
       "    </tr>\n",
       "    <tr>\n",
       "      <th>3</th>\n",
       "      <td>2018-09-13</td>\n",
       "      <td>5.035</td>\n",
       "      <td>NaN</td>\n",
       "      <td>NaN</td>\n",
       "      <td>NaN</td>\n",
       "    </tr>\n",
       "    <tr>\n",
       "      <th>4</th>\n",
       "      <td>2018-09-14</td>\n",
       "      <td>5.035</td>\n",
       "      <td>NaN</td>\n",
       "      <td>NaN</td>\n",
       "      <td>NaN</td>\n",
       "    </tr>\n",
       "    <tr>\n",
       "      <th>...</th>\n",
       "      <td>...</td>\n",
       "      <td>...</td>\n",
       "      <td>...</td>\n",
       "      <td>...</td>\n",
       "      <td>...</td>\n",
       "    </tr>\n",
       "    <tr>\n",
       "      <th>1757</th>\n",
       "      <td>2025-07-21</td>\n",
       "      <td>13.786</td>\n",
       "      <td>49.855000</td>\n",
       "      <td>64.986000</td>\n",
       "      <td>38.857498</td>\n",
       "    </tr>\n",
       "    <tr>\n",
       "      <th>1758</th>\n",
       "      <td>2025-07-22</td>\n",
       "      <td>13.676</td>\n",
       "      <td>48.900002</td>\n",
       "      <td>66.313004</td>\n",
       "      <td>37.215000</td>\n",
       "    </tr>\n",
       "    <tr>\n",
       "      <th>1759</th>\n",
       "      <td>2025-07-23</td>\n",
       "      <td>13.674</td>\n",
       "      <td>49.380001</td>\n",
       "      <td>66.329002</td>\n",
       "      <td>38.000000</td>\n",
       "    </tr>\n",
       "    <tr>\n",
       "      <th>1760</th>\n",
       "      <td>2025-07-24</td>\n",
       "      <td>13.772</td>\n",
       "      <td>49.450001</td>\n",
       "      <td>65.570000</td>\n",
       "      <td>38.009998</td>\n",
       "    </tr>\n",
       "    <tr>\n",
       "      <th>1761</th>\n",
       "      <td>2025-07-25</td>\n",
       "      <td>13.796</td>\n",
       "      <td>49.695000</td>\n",
       "      <td>NaN</td>\n",
       "      <td>37.167500</td>\n",
       "    </tr>\n",
       "  </tbody>\n",
       "</table>\n",
       "<p>1762 rows × 5 columns</p>\n",
       "</div>"
      ],
      "text/plain": [
       "            Date  NQSE.DE    DFEN.DE      PHYMF     JEDG.L\n",
       "0     2018-09-10    5.010        NaN        NaN        NaN\n",
       "1     2018-09-11    5.050        NaN        NaN        NaN\n",
       "2     2018-09-12    5.035        NaN        NaN        NaN\n",
       "3     2018-09-13    5.035        NaN        NaN        NaN\n",
       "4     2018-09-14    5.035        NaN        NaN        NaN\n",
       "...          ...      ...        ...        ...        ...\n",
       "1757  2025-07-21   13.786  49.855000  64.986000  38.857498\n",
       "1758  2025-07-22   13.676  48.900002  66.313004  37.215000\n",
       "1759  2025-07-23   13.674  49.380001  66.329002  38.000000\n",
       "1760  2025-07-24   13.772  49.450001  65.570000  38.009998\n",
       "1761  2025-07-25   13.796  49.695000        NaN  37.167500\n",
       "\n",
       "[1762 rows x 5 columns]"
      ]
     },
     "execution_count": 16,
     "metadata": {},
     "output_type": "execute_result"
    }
   ],
   "source": [
    "historicData"
   ]
  }
 ],
 "metadata": {
  "kernelspec": {
   "display_name": ".venv (3.12.10)",
   "language": "python",
   "name": "python3"
  },
  "language_info": {
   "codemirror_mode": {
    "name": "ipython",
    "version": 3
   },
   "file_extension": ".py",
   "mimetype": "text/x-python",
   "name": "python",
   "nbconvert_exporter": "python",
   "pygments_lexer": "ipython3",
   "version": "3.12.10"
  }
 },
 "nbformat": 4,
 "nbformat_minor": 5
}
